{
 "cells": [
  {
   "cell_type": "code",
   "execution_count": 2,
   "metadata": {},
   "outputs": [],
   "source": [
    "import numpy as np\n",
    "import scipy as sp\n",
    "import warnings\n",
    "warnings.simplefilter(action='ignore', category=FutureWarning)\n",
    "import pandas as pd\n",
    "from tqdm import tqdm\n",
    "import matplotlib.pyplot as plt \n",
    "import seaborn as sns\n",
    "from lib.get_density import *"
   ]
  },
  {
   "cell_type": "markdown",
   "metadata": {},
   "source": [
    "## Data simulation for figure 3"
   ]
  },
  {
   "cell_type": "code",
   "execution_count": 5,
   "metadata": {},
   "outputs": [],
   "source": [
    "M = 20 #Number of point pair in one Batch\n",
    "# N = 20  #Number of Batches\n",
    "S = 300  #Number of subsampling, should be smaller than M*N\n",
    "std = 0.05  #Standard diviation for distance\n",
    "jump = 0.3  #Distance of shift\n",
    "jump_prob = 0.5  #Probability of shifting\n",
    "# ve = 0.0025 #Sinkhorn regulariser, suggested order is O(M*N^{-1/dim})\n",
    "subsample = True\n",
    "EMML_itr = 5000  #itr for minimisation algo (make it large when M is large)\n",
    "E = 100  #resolution for output image\n",
    "DF3 = pd.DataFrame(columns = [\"L2\",\"seed\",\"M\",\"N\",\"S\",\"std\",\"jump\",\"jump_prob\",\"epsi\",\"subsample\",\"EMML_itr\",\"E\"])\n",
    "\n",
    "num_sim = 100 #number of simulations\n",
    "for _ in tqdm(range(num_sim),desc=\" outer\", position=0):\n",
    "    cnt = 0\n",
    "    for N in tqdm(np.logspace(1,2.7,20,dtype = int), desc=\" inner loop\", position=1, leave=False):\n",
    "        cnt += 1\n",
    "        for ve in [0.001,0.0025,0.01]:    \n",
    "            seed = np.random.SeedSequence()\n",
    "            gen = np.random.Generator(np.random.MT19937(seed))\n",
    "            L2 = get_L2_estimator(gen,M,N,S,std,jump,jump_prob,ve,subsample,EMML_itr,E)\n",
    "            ss = 0\n",
    "            if(subsample):\n",
    "                ss = 1\n",
    "            new_row = {\"L2\": L2, \"seed\": str(seed.entropy),\"M\" : M,\"N\" : N,\"S\" : S,\"std\" : std,\"jump\" : jump,\"jump_prob\" : jump_prob,\"epsi\" : ve,\"subsample\" : ss,\"EMML_itr\" : EMML_itr,\"E\" : E}\n",
    "            DF3 = DF3.append(new_row,ignore_index=True)\n",
    "        if(cnt%5 == 0):\n",
    "            DF3.to_csv('data_F3.csv')\n",
    "    DF3.to_csv('data_F3.csv')"
   ]
  },
  {
   "cell_type": "markdown",
   "metadata": {},
   "source": [
    "## Data simulation for figure 4"
   ]
  },
  {
   "cell_type": "code",
   "execution_count": null,
   "metadata": {},
   "outputs": [],
   "source": [
    "\n",
    "M = 20 #Number of point pair in one Batch\n",
    "N = 20  #Number of Batches\n",
    "S = 300  #Number of subsampling, should be smaller than M*N\n",
    "# std = 0.025  #Standard diviation for distance\n",
    "jump = 0.3  #Distance of shift\n",
    "jump_prob = 0.5  #Probability of shifting\n",
    "# ve = 3*1e-3  #Sinkhorn regulariser, suggested order is O(M*N^{-1/dim})\n",
    "subsample = True\n",
    "EMML_itr = 5000  #Maxitr for minimisation algo (make it large when M is large)\n",
    "E = 100  #resolution for output image\n",
    "DF4 = pd.DataFrame(columns = [\"L2\",\"seed\",\"M\",\"N\",\"S\",\"std\",\"jump\",\"jump_prob\",\"epsi\",\"subsample\",\"EMML_itr\",\"E\"])\n",
    "\n",
    "num_sim = 100 #number of simulations\n",
    "for _ in tqdm(range(num_sim),desc=\" outer\", position=0):\n",
    "    cnt = 0\n",
    "    for i in tqdm(np.logspace(-0.9,-3.1,50), desc=\" inner loop\", position=1, leave=False):\n",
    "        cnt += 1\n",
    "        for std in [0.01,0.025,0.05]:    \n",
    "            seed = np.random.SeedSequence()\n",
    "            gen = np.random.Generator(np.random.MT19937(seed))\n",
    "            L2 = get_L2_estimator(gen,M,N,S,std,jump,jump_prob,i,subsample,EMML_itr,E)\n",
    "            ss = 0\n",
    "            if(subsample):\n",
    "                ss = 1\n",
    "            new_row = {\"L2\": L2, \"seed\": str(seed.entropy),\"M\" : M,\"N\" : N,\"S\" : S,\"std\" : std,\"jump\" : jump,\"jump_prob\" : jump_prob,\"epsi\" : i,\"subsample\" : ss,\"EMML_itr\" : EMML_itr,\"E\" : E}\n",
    "            DF4 = DF4.append(new_row,ignore_index=True)\n",
    "        if(cnt%5 == 0):\n",
    "            DF4.to_csv('data_F4.csv')\n",
    "    DF4.to_csv('data_F4.csv')"
   ]
  },
  {
   "cell_type": "markdown",
   "metadata": {},
   "source": [
    "## Data simulation for figure 5"
   ]
  },
  {
   "cell_type": "code",
   "execution_count": null,
   "metadata": {},
   "outputs": [],
   "source": [
    "# M = 20 #Number of point pair in one Batch\n",
    "N = 20  #Number of Batches\n",
    "S = 300  #Number of subsampling, should be smaller than M*N\n",
    "# std = 0.05  #Standard diviation for distance\n",
    "jump = 0.3  #Distance of shift\n",
    "jump_prob = 0.5  #Probability of shifting\n",
    "ve = 0.01 #Sinkhorn regulariser, suggested order is O(M*N^{-1/dim})\n",
    "subsample = True\n",
    "EMML_itr = 40000  #itr for minimisation algo (make it large when M is large)\n",
    "E = 100  #resolution for output image\n",
    "DF5 = pd.DataFrame(columns = [\"L2\",\"seed\",\"M\",\"N\",\"S\",\"std\",\"jump\",\"jump_prob\",\"epsi\",\"subsample\",\"EMML_itr\",\"E\"])\n",
    "\n",
    "num_sim = 100 #number of simulations\n",
    "for _ in tqdm(range(num_sim),desc=\" outer\", position=0):\n",
    "    cnt = 0\n",
    "    for M in tqdm(np.unique(np.logspace(0,3.5,32,dtype = int)), desc=\" inner loop\", position=1, leave=False):\n",
    "        cnt += 1\n",
    "        for std in [0.01,0.025,0.05]:    \n",
    "            seed = np.random.SeedSequence()\n",
    "            gen = np.random.Generator(np.random.MT19937(seed))\n",
    "            L2 = get_L2_estimator(gen,M,N,S,std,jump,jump_prob,ve,subsample,EMML_itr,E)\n",
    "            ss = 0\n",
    "            if(subsample):\n",
    "                ss = 1\n",
    "            new_row = {\"L2\": L2, \"seed\": str(seed.entropy),\"M\" : M,\"N\" : N,\"S\" : S,\"std\" : std,\"jump\" : jump,\"jump_prob\" : jump_prob,\"epsi\" : ve,\"subsample\" : ss,\"EMML_itr\" : EMML_itr,\"E\" : E}\n",
    "            DF5 = DF5.append(new_row,ignore_index=True)\n",
    "        if(cnt%5 == 0):\n",
    "            DF5.to_csv('data_F5.csv')\n",
    "    DF5.to_csv('data_F5.csv')"
   ]
  }
 ],
 "metadata": {
  "kernelspec": {
   "display_name": "Python 3.8.10 ('Clement')",
   "language": "python",
   "name": "python3"
  },
  "language_info": {
   "codemirror_mode": {
    "name": "ipython",
    "version": 3
   },
   "file_extension": ".py",
   "mimetype": "text/x-python",
   "name": "python",
   "nbconvert_exporter": "python",
   "pygments_lexer": "ipython3",
   "version": "3.8.10"
  },
  "orig_nbformat": 4,
  "vscode": {
   "interpreter": {
    "hash": "962ecfe920312392cb1e9a6f015d357e1fde5e1aa47e9d7214a9caecb5644e59"
   }
  }
 },
 "nbformat": 4,
 "nbformat_minor": 2
}
