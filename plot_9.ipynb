{
 "cells": [
  {
   "cell_type": "code",
   "execution_count": null,
   "metadata": {},
   "outputs": [],
   "source": [
    "import numpy as np\n",
    "import matplotlib.pyplot as plt\n",
    "from matplotlib.lines import Line2D\n",
    "from matplotlib.patches import Patch\n",
    "import pandas as pd\n",
    "import multiprocess as mp\n",
    "import time\n",
    "\n",
    "prop_cycle = plt.rcParams['axes.prop_cycle']\n",
    "colors = prop_cycle.by_key()['color']"
   ]
  },
  {
   "cell_type": "code",
   "execution_count": null,
   "metadata": {},
   "outputs": [],
   "source": [
    "def pt(x, y, t):\n",
    "    r = np.ceil(8. * t)\n",
    "    xy = x - y\n",
    "    z = np.arange(-r, r+1)\n",
    "    z = np.array(np.meshgrid(z, z))[None,None,...]\n",
    "    xy = xy.reshape((*xy.shape, 1, 1))\n",
    "    a = np.linalg.norm(xy + z, axis=-3)**2 / 2\n",
    "    res = 1. / (2 * np.pi * t**2) * np.sum(np.exp(-a / t**2), axis=(-1,-2))\n",
    "    return res\n",
    "\n",
    "def sample(gen, M, t):\n",
    "    X = gen.random((M,2))\n",
    "    Y = (X + gen.normal(0, t, size=(M,2))) % 1\n",
    "    return X.reshape((M, 1, 2)), Y.reshape((1, M, 2))\n",
    "\n",
    "def f(X, Y, t):\n",
    "    return np.sum(np.log(np.mean(pt(X, Y, t), axis=1)))\n",
    "\n",
    "def f_multi(Xs, Ys, t):\n",
    "    return np.sum([f(X, Y, t) for X, Y in zip(Xs, Ys)])\n",
    "\n",
    "def sample_multi(gen, N, M, t):\n",
    "    Xs, Ys = [], []\n",
    "    for _ in range(N):\n",
    "        X, Y = sample(gen, M, t)\n",
    "        Xs += [X]\n",
    "        Ys += [Y]\n",
    "    return Xs, Ys"
   ]
  },
  {
   "cell_type": "code",
   "execution_count": null,
   "metadata": {},
   "outputs": [],
   "source": [
    "M = 100\n",
    "N = 10\n",
    "    \n",
    "tt = [0.01, 0.05, 0.1, 0.2]\n",
    "\n",
    "\n",
    "ts = np.linspace(0.001, 0.5, 1000)\n",
    "\n",
    "data = []\n",
    "\n",
    "t0 = time.time()\n",
    "for t in tt:\n",
    "    seed = np.random.SeedSequence(42)\n",
    "    gen = np.random.Generator(np.random.PCG64(seed))\n",
    "    \n",
    "    Xs, Ys = sample_multi(gen, N, M, t)\n",
    "    \n",
    "    \n",
    "    def h(x):\n",
    "        return f_multi(Xs, Ys, x)\n",
    "    \n",
    "    with mp.Pool(16) as pool:\n",
    "        fs = pool.map(h, ts)\n",
    "    \n",
    "    data += [{\"Xs\" : Xs, \"Ys\" : Ys, \"t\" : t, \"ts\" : ts, \"fs\" : fs}]\n",
    "\n",
    "t1 = time.time()\n",
    "print(f\"{t1-t0}s\")"
   ]
  },
  {
   "cell_type": "code",
   "execution_count": null,
   "metadata": {},
   "outputs": [],
   "source": [
    "fig, axs = plt.subplots(2, 4, figsize=(13,6.5), dpi=200)\n",
    "\n",
    "#fig.suptitle(f\"M = {M}, N = {N}\")\n",
    "\n",
    "for i, d in enumerate(data):\n",
    "\n",
    "    Xs = d['Xs']\n",
    "    Ys = d['Ys']\n",
    "    ts = d['ts']\n",
    "    fs = d['fs']\n",
    "    t = d['t']\n",
    "    \n",
    "    #axs[0,i].set_title(f\"$\\sigma = {t}$\")\n",
    "    \n",
    "    axs[0,i].scatter(Xs[0][:,:,0], Xs[0][:,:,1], s=16, marker='x')\n",
    "    axs[0,i].scatter(Ys[0][:,:,0], Ys[0][:,:,1], marker='+')\n",
    "    axs[0,i].set_aspect(1)\n",
    "    axs[0,i].set_xlim(0,1)\n",
    "    axs[0,i].set_ylim(0,1)\n",
    "    axs[0,i].set_xticks([])\n",
    "    axs[0,i].set_yticks([])\n",
    "\n",
    "    axs[1,i].plot(ts, -np.array(fs))\n",
    "    \n",
    "    axs[1,i].text(0.75, 0.15, f\"$\\sigma={t}$\", \n",
    "                  horizontalalignment='center',\n",
    "                  verticalalignment='center',\n",
    "                  transform=axs[1,i].transAxes,\n",
    "                  fontsize=18)\n",
    "    \n",
    "    yl = [-np.max(fs), 0]\n",
    "    yl = [yl[0] - 0.1 * (yl[1] - yl[0]), yl[1] + 0.1 * (yl[1] - yl[0])]\n",
    "    \n",
    "    axs[1,i].plot([t,t], np.array(yl), color=\"red\", zorder=-1, linestyle=\"dashed\", alpha=0.8)\n",
    "    \n",
    "    axs[1,i].set_ylim(yl[0], yl[1])\n",
    "    axs[1,i].set_xlabel(\"$\\sigma$\", fontsize=14)\n",
    "\n",
    "axs[1,0].set_ylabel(\"\")\n",
    "plt.tight_layout()\n",
    "plt.show()"
   ]
  }
 ],
 "metadata": {
  "kernelspec": {
   "display_name": "Python 3 (ipykernel)",
   "language": "python",
   "name": "python3"
  },
  "language_info": {
   "codemirror_mode": {
    "name": "ipython",
    "version": 3
   },
   "file_extension": ".py",
   "mimetype": "text/x-python",
   "name": "python",
   "nbconvert_exporter": "python",
   "pygments_lexer": "ipython3",
   "version": "3.8.8"
  },
  "vscode": {
   "interpreter": {
    "hash": "962ecfe920312392cb1e9a6f015d357e1fde5e1aa47e9d7214a9caecb5644e59"
   }
  }
 },
 "nbformat": 4,
 "nbformat_minor": 2
}
