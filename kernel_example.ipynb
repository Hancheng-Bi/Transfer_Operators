{
 "cells": [
  {
   "cell_type": "code",
   "execution_count": null,
   "metadata": {},
   "outputs": [],
   "source": [
    "import numpy as np\n",
    "import scipy as sp\n",
    "import pandas as pd\n",
    "from tqdm import tqdm\n",
    "import matplotlib.pyplot as plt \n",
    "import seaborn as sns\n",
    "import ot\n",
    "from lib.SinkhornNP import SolveOT\n",
    "from lib.get_density import *\n",
    "seed = np.random.SeedSequence()\n",
    "gen = np.random.Generator(np.random.MT19937(seed))"
   ]
  },
  {
   "cell_type": "code",
   "execution_count": null,
   "metadata": {},
   "outputs": [],
   "source": [
    "use_GPU = True\n",
    "if use_GPU:\n",
    "    dev = torch.device('cuda')\n",
    "else:\n",
    "    dev = torch.device('cpu')"
   ]
  },
  {
   "cell_type": "code",
   "execution_count": null,
   "metadata": {},
   "outputs": [],
   "source": [
    "M = 100  #Number of point pair in one Batch\n",
    "N = 100  #Number of Batches\n",
    "S = 100  #Number of subsampling, should be smaller than M*N\n",
    "std = 0.05  #Standard diviation for distance\n",
    "jump = 0.3  #Distance of shift\n",
    "jump_prob = 0.5  #Probability of shifting\n",
    "ve = 50/(M*N)  #Sinkhorn regulariser, suggested order is O(M*N^{-1/dim})\n",
    "subsample = True\n",
    "EMML_itr = 10000  #Maxitr for minimisation algo (make it large when M is large)\n",
    "E = 100  #resolution for output image"
   ]
  },
  {
   "cell_type": "code",
   "execution_count": null,
   "metadata": {},
   "outputs": [],
   "source": [
    "#Test generated samples, \n",
    "mn = M*N\n",
    "x,y = sample_Gau(gen,num = mn ,std = std, shift = jump, shift_prob = jump_prob)\n",
    "plt.scatter(x,y,s = .1)\n",
    "_ = plt.axis('scaled')"
   ]
  },
  {
   "cell_type": "code",
   "execution_count": null,
   "metadata": {},
   "outputs": [],
   "source": [
    "#Subsample points\n",
    "S1 = gen.integers(0, mn, size = S)\n",
    "S2 = gen.integers(0, mn, size = S)\n",
    "if (subsample):\n",
    "    sx = x[S1]\n",
    "    sy = y[S2]\n",
    "else:\n",
    "    sx = x\n",
    "    sy = y\n",
    "    S = mn\n",
    "\n",
    "LX = ot.sinkhorn(torch.ones(mn, device = dev, dtype = torch.float64)/mn,\n",
    "            torch.ones(S,device = dev,dtype = torch.float64)/S, cost(x,sx,dev),ve\n",
    "            ,log = True,numItermax = 1000000,method = 'sinkhorn_log')\n",
    "LY = ot.sinkhorn(torch.ones(mn, device = dev, dtype = torch.float64)/mn,\n",
    "                torch.ones(S,device = dev,dtype = torch.float64)/S, cost(y,sy,dev),ve\n",
    "                ,log = True,numItermax = 1000000,method = 'sinkhorn_log')\n",
    "EK_x = LX[0]#Transport plan from nu to subsampled y points\n",
    "EK_y = LY[0]#Transport plan from nu to subsampled y points"
   ]
  },
  {
   "cell_type": "code",
   "execution_count": null,
   "metadata": {},
   "outputs": [],
   "source": [
    "#EMML minimisation of cost function\n",
    "rho = EMML(EK_x,EK_y,M,EMML_itr,dev = dev)\n",
    "\n",
    "#Do kernel extension for illustration, x_e and y_e should be close to the true marginal (in this case is uniform so we take linspace) \n",
    "x_e = y_e = np.linspace(0,1,E,endpoint=False)\n",
    "xpot = 1/(torch.sum(torch.exp(-cost(x_e,sx,dev)/ve + LX[1][\"log_v\"]),axis=1))\n",
    "ypot = 1/(torch.sum(torch.exp(-cost(y_e,sy,dev)/ve + LY[1][\"log_v\"]),axis=1))\n",
    "F_X = xpot[:,None]*torch.exp(-cost(x_e,sx,dev)/ve + LX[1][\"log_v\"])*S\n",
    "F_Y = ypot[:,None]*torch.exp(-cost(y_e,sy,dev)/ve + LY[1][\"log_v\"])*S\n",
    "Mat = (F_Y@rho@F_X.T).cpu()\n",
    "\n",
    "\n",
    "#Do kernel extension for illustration, x_e and y_e should be close to the true marginal (in this case is uniform so we take linspace) \n",
    "# x_e = y_e = np.linspace(0,1,E,endpoint = False)\n",
    "# xpot = 1/(np.sum(np.exp((-cost(x_e,sx) + Res_X[2].beta)/ve),axis=1))\n",
    "# ypot = 1/(np.sum(np.exp((-cost(y_e,sy) + Res_Y[2].beta)/ve),axis=1))\n",
    "# F_X = xpot[:,np.newaxis]*np.exp((-cost(x_e,sx) + Res_X[2].beta)/ve)*S\n",
    "# F_Y = ypot[:,np.newaxis]*np.exp((-cost(y_e,sy) + Res_Y[2].beta)/ve)*S\n",
    "# Mat = F_Y@rho@F_X.T"
   ]
  },
  {
   "cell_type": "code",
   "execution_count": null,
   "metadata": {},
   "outputs": [],
   "source": [
    "plt.imshow(Mat,origin = \"lower\")\n",
    "plt.colorbar()"
   ]
  }
 ],
 "metadata": {
  "kernelspec": {
   "display_name": "Python 3 (ipykernel)",
   "language": "python",
   "name": "python3"
  },
  "language_info": {
   "codemirror_mode": {
    "name": "ipython",
    "version": 3
   },
   "file_extension": ".py",
   "mimetype": "text/x-python",
   "name": "python",
   "nbconvert_exporter": "python",
   "pygments_lexer": "ipython3",
   "version": "3.8.8"
  },
  "vscode": {
   "interpreter": {
    "hash": "962ecfe920312392cb1e9a6f015d357e1fde5e1aa47e9d7214a9caecb5644e59"
   }
  }
 },
 "nbformat": 4,
 "nbformat_minor": 2
}
