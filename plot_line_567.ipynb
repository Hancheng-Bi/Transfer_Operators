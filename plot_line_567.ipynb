{
 "cells": [
  {
   "cell_type": "code",
   "execution_count": null,
   "metadata": {},
   "outputs": [],
   "source": [
    "import numpy as np\n",
    "import scipy as sp\n",
    "import warnings\n",
    "warnings.simplefilter(action='ignore', category=FutureWarning)\n",
    "import pandas as pd\n",
    "from tqdm import tqdm\n",
    "import matplotlib.pyplot as plt \n",
    "import seaborn as sns\n",
    "from lib.get_density import *"
   ]
  },
  {
   "cell_type": "code",
   "execution_count": null,
   "metadata": {},
   "outputs": [],
   "source": [
    "Co = sns.color_palette()"
   ]
  },
  {
   "cell_type": "code",
   "execution_count": null,
   "metadata": {},
   "outputs": [],
   "source": [
    "Use_given_data = True\n",
    "\n",
    "if(Use_given_data):\n",
    "    myData3 = pd.read_csv('Data_5.csv')\n",
    "    myData4 = pd.read_csv('Data_6.csv')\n",
    "    myData5 = pd.read_csv('Data_7.csv')\n",
    "else: #For this option please first run \"Data_345.ipynb\" [it would take a long time if not run on cluster]\n",
    "    myData3 = pd.read_csv('data_F5.csv')\n",
    "    myData4 = pd.read_csv('data_F6.csv')\n",
    "    myData5 = pd.read_csv('data_F7.csv')"
   ]
  },
  {
   "cell_type": "code",
   "execution_count": null,
   "metadata": {},
   "outputs": [],
   "source": [
    "ax = sns.lineplot(data= myData3, x=\"N\", y=\"L2\", hue=\"epsi\",palette = [Co[0],Co[1],Co[2]])\n",
    "ax.set_xscale('log')\n",
    "ax.axhline(y = get_L2_uniform(0.05,0.3,0.5,100), color = Co[5], linestyle = '--') "
   ]
  },
  {
   "cell_type": "code",
   "execution_count": null,
   "metadata": {},
   "outputs": [],
   "source": [
    "ax = sns.lineplot(data= myData4, x=\"epsi\", y=\"L2\", hue=\"std\",palette = [Co[0],Co[1],Co[2]])\n",
    "ax.set_xscale('log')\n",
    "ax.axhline(y = get_L2_uniform(0.01,0.3,0.5,100), color = Co[0], linestyle = '--') \n",
    "ax.axhline(y = get_L2_uniform(0.025,0.3,0.5,100), color = Co[1], linestyle = '--') \n",
    "ax.axhline(y = get_L2_uniform(0.05,0.3,0.5,100), color = Co[2], linestyle = '--') "
   ]
  },
  {
   "cell_type": "code",
   "execution_count": null,
   "metadata": {},
   "outputs": [],
   "source": [
    "ax = sns.lineplot(data= myData5, x=\"M\", y=\"L2\", hue=\"std\",palette = [Co[0],Co[1],Co[2]])\n",
    "ax.set_xscale('log')\n",
    "ax.axhline(y = get_L2_uniform(0.01,0.3,0.5,100), color = Co[0], linestyle = '--') \n",
    "ax.axhline(y = get_L2_uniform(0.025,0.3,0.5,100), color = Co[1], linestyle = '--') \n",
    "ax.axhline(y = get_L2_uniform(0.05,0.3,0.5,100), color = Co[2], linestyle = '--') \n",
    "ax.axhline(y = get_L2_true(0.01,0.01,0.3,0.5,100), color = Co[0], linestyle = ':') \n",
    "ax.axhline(y = get_L2_true(0.01,0.025,0.3,0.5,100), color = Co[1], linestyle = ':') \n",
    "ax.axhline(y = get_L2_true(0.01,0.05,0.3,0.5,100), color = Co[2], linestyle = ':') "
   ]
  }
 ],
 "metadata": {
  "kernelspec": {
   "display_name": "Python 3 (ipykernel)",
   "language": "python",
   "name": "python3"
  },
  "language_info": {
   "codemirror_mode": {
    "name": "ipython",
    "version": 3
   },
   "file_extension": ".py",
   "mimetype": "text/x-python",
   "name": "python",
   "nbconvert_exporter": "python",
   "pygments_lexer": "ipython3",
   "version": "3.8.8"
  },
  "vscode": {
   "interpreter": {
    "hash": "962ecfe920312392cb1e9a6f015d357e1fde5e1aa47e9d7214a9caecb5644e59"
   }
  }
 },
 "nbformat": 4,
 "nbformat_minor": 2
}
