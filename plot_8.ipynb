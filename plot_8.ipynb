{
 "cells": [
  {
   "cell_type": "code",
   "execution_count": null,
   "id": "b08017ad",
   "metadata": {},
   "outputs": [],
   "source": [
    "import numpy as np\n",
    "import matplotlib.pyplot as plt\n",
    "from matplotlib.lines import Line2D\n",
    "from matplotlib.patches import Patch\n",
    "import pandas as pd\n",
    "import multiprocessing as mp\n",
    "from scipy.signal import find_peaks\n",
    "from scipy.optimize import minimize\n",
    "import time\n",
    "import tqdm\n",
    "\n",
    "prop_cycle = plt.rcParams['axes.prop_cycle']\n",
    "colors = prop_cycle.by_key()['color']"
   ]
  },
  {
   "cell_type": "code",
   "execution_count": null,
   "id": "df56fe95",
   "metadata": {},
   "outputs": [],
   "source": [
    "Use_given_sample = True\n",
    "if(Use_given_sample):\n",
    "    data_est = pd.read_csv(\"Data_8.csv\", index_col=0)\n",
    "else: #for this option please first run \"get_sample\" function from \"Data_6.py\" with interested parameters and combine all the out put file\n",
    "    pd.read_csv(\"samples_torus_jump_combined.csv\", index_col=0)\n",
    "data_est['cnt'] = 1\n",
    "\n",
    "\n",
    "data_est = data_est[data_est['N']==100]\n",
    "\n",
    "df_est = data_est.groupby(['t', 'M', 'N']).mean(numeric_only=True)\n",
    "df_N = df_est.index.get_level_values('N')\n",
    "df_est['std'] = data_est.groupby(['t', 'M', 'N']).std(numeric_only=True)['tmax']\n",
    "df_est['info'] = 1. / (df_est['std']**2 * df_N)\n",
    "df_est['cnt'] = data_est.groupby(['t', 'M', 'N']).sum(numeric_only=True)['cnt']"
   ]
  },
  {
   "cell_type": "code",
   "execution_count": null,
   "id": "ec3c01d8-d792-4e4f-ac93-80c5441942ca",
   "metadata": {},
   "outputs": [],
   "source": [
    "for i, (t, sdf) in enumerate(df_est[df_est.index.get_level_values('N')==100].groupby('t')):\n",
    "    M = sdf.index.get_level_values('M')\n",
    "    est = sdf['tmax']\n",
    "    err = sdf['std']\n",
    "    plt.plot(M, est, color=colors[i])\n",
    "    plt.fill_between(M, est - err, est + err, alpha=0.2, color=colors[i])\n",
    "\n",
    "    plt.plot(M, np.full(len(M), t), linestyle=\"dotted\")\n",
    "    \n",
    "plt.xscale(\"log\")"
   ]
  },
  {
   "cell_type": "code",
   "execution_count": null,
   "id": "d319bc66",
   "metadata": {},
   "outputs": [],
   "source": [
    "cmap = {}\n",
    "for i, t in enumerate(df_est.index.get_level_values('t').unique()):\n",
    "    cmap[t] = colors[i]\n",
    "    \n",
    "amap = {}\n",
    "dmap = {}\n",
    "Nvals = len(df_est.index.get_level_values('N').unique())\n",
    "for i, N in enumerate(df_est.index.get_level_values('N').unique()):\n",
    "    amap[N] = 1. - 0.3 * i / (Nvals - 1.) if Nvals > 1 else 1.0\n",
    "    dmap[N] = [3] + [1, 1] * i + [1]"
   ]
  },
  {
   "cell_type": "code",
   "execution_count": null,
   "id": "bf75a9a5",
   "metadata": {},
   "outputs": [],
   "source": [
    "plt.figure(figsize=(8,5), dpi=200)\n",
    "\n",
    "\n",
    "plt.xlabel(\"M\")\n",
    "plt.xscale(\"log\")\n",
    "\n",
    "legend = []\n",
    "\n",
    "for i, (t, sdf) in enumerate(df_est.groupby('t')):\n",
    "    legend += [Patch(facecolor=colors[i], edgecolor=colors[i], label=\"$\\\\theta = {0}$\".format(t), alpha=0.5)]\n",
    "    M = sdf.index.get_level_values('M')\n",
    "\n",
    "for i, ((t, N), sdf) in enumerate(df_est.groupby(['t', 'N'])):\n",
    "    M = sdf.index.get_level_values('M')\n",
    "    est_std = sdf['std']\n",
    "    plt.plot(M, est_std, color=cmap[t], alpha=amap[N])\n",
    "\n",
    "ax = plt.gca()\n",
    "box = ax.get_position()\n",
    "ax.set_position([box.x0, box.y0, box.width * 0.8, box.height])\n",
    "\n",
    "# Put a legend to the right of the current axis\n",
    "ax.legend(handles=legend, loc='center left', bbox_to_anchor=(1, 0.5)) #, title=\"$N = {}$\".format(N))\n",
    "\n",
    "plt.xticks(2**np.arange(11), [\"$2^{\" + str(x) + \"}$\" for x in np.arange(11)], minor=False)\n",
    "plt.xticks([], [], minor=True)\n",
    "\n",
    "plt.grid(which=\"both\", alpha=0.2)\n",
    "\n",
    "\n",
    "plt.show()"
   ]
  }
 ],
 "metadata": {
  "kernelspec": {
   "display_name": "Python 3 (ipykernel)",
   "language": "python",
   "name": "python3"
  },
  "language_info": {
   "codemirror_mode": {
    "name": "ipython",
    "version": 3
   },
   "file_extension": ".py",
   "mimetype": "text/x-python",
   "name": "python",
   "nbconvert_exporter": "python",
   "pygments_lexer": "ipython3",
   "version": "3.8.8"
  },
  "vscode": {
   "interpreter": {
    "hash": "962ecfe920312392cb1e9a6f015d357e1fde5e1aa47e9d7214a9caecb5644e59"
   }
  }
 },
 "nbformat": 4,
 "nbformat_minor": 5
}
